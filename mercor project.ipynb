{
 "cells": [
  {
   "cell_type": "code",
   "execution_count": 1,
   "id": "0820cd9f",
   "metadata": {},
   "outputs": [],
   "source": [
    "import pandas as pd\n",
    "from autoscraper import AutoScraper\n",
    "from sklearn.metrics.pairwise import cosine_similarity\n",
    "from sklearn.feature_extraction.text import TfidfVectorizer\n",
    "import numpy as np"
   ]
  },
  {
   "cell_type": "code",
   "execution_count": 2,
   "id": "54c37643",
   "metadata": {},
   "outputs": [],
   "source": [
    "#taking url of the website to get the data\n",
    "url = \"https://www.nykaafashion.com/designers/united-colors-of-benetton/c/7949?root=nav_3&ptype=listing,all-brands,united-colors-of-benetton,1,united-colors-of-benetton&f=gender_filter=5197_;discount_filter=20-*_&transaction_id=9f779066deb5463a52a330f11b97f00b&intcmp=nykaa:other:nf-men-dweb:default:in-the-spotlight:COLUMN_GRID_V2:7:united-colors-of-benetton:7949:9f779066deb5463a52a330f11b97f00b\"\n"
   ]
  },
  {
   "cell_type": "code",
   "execution_count": 82,
   "id": "8591e15d",
   "metadata": {
    "scrolled": true
   },
   "outputs": [
    {
     "data": {
      "text/plain": [
       "['₹750',\n",
       " '₹1,150',\n",
       " '₹1,500',\n",
       " '₹1,750',\n",
       " '₹2,000',\n",
       " '₹900',\n",
       " '₹1,000',\n",
       " '₹650',\n",
       " '₹500',\n",
       " '₹1,400',\n",
       " '₹2,250',\n",
       " '₹1,250',\n",
       " '₹2,998',\n",
       " '₹2,310',\n",
       " '₹1,650',\n",
       " '₹2,475',\n",
       " '₹1,625',\n",
       " '₹2,625',\n",
       " '₹1,875',\n",
       " '₹1,498',\n",
       " '₹2,275']"
      ]
     },
     "execution_count": 82,
     "metadata": {},
     "output_type": "execute_result"
    }
   ],
   "source": [
    "# We mentioned the price of an item to obtain the price datasets\n",
    "wanted=[\"₹900\"]\n",
    "scraper = AutoScraper()\n",
    "price = scraper.build(url,wanted)\n",
    "price"
   ]
  },
  {
   "cell_type": "code",
   "execution_count": 76,
   "id": "b441aff1",
   "metadata": {},
   "outputs": [
    {
     "data": {
      "text/plain": [
       "['Mens Short Sleeve Printed T-Shirt-Grey',\n",
       " 'Mens Short Sleeve Solid Polo T-Shirt-Maroon',\n",
       " 'Blue Colour-Blocked Polo T-Shirt',\n",
       " 'Mens Slim Fit Check Shirt Multi-Color',\n",
       " 'Skinny Fit Blue Jeans',\n",
       " 'Mens Short Sleeve Printed T-Shirt',\n",
       " 'Mens Short Sleeve Tipping T-Shirt',\n",
       " 'Cream Linen Shirt',\n",
       " 'Men Solid Slim Fit Jeans Grey',\n",
       " 'Mens Short Sleeve Solid Polo T-Shirt',\n",
       " 'Men Black Solid Skinny Fit Jeans',\n",
       " 'Mens Short Sleeve Printed T-Shirt Beige',\n",
       " 'White Linen Shirt',\n",
       " 'Black V-Neck T-Shirt',\n",
       " 'Mens Short Sleeve Solid Polo Purple',\n",
       " 'Mens Low Crotch Jeans Black',\n",
       " 'Mens Short Sleeve Solid T-Shirt',\n",
       " 'Mens Slim Fit Solid Shorts',\n",
       " 'White V-Neck T-Shirt',\n",
       " 'Mens Slim Fit Solid Shirt',\n",
       " 'Analog Grey Dial Men Watch-UWUCG0000',\n",
       " 'Mens Slim Fit Chinos Black',\n",
       " 'Men Slim Fit Solid Shirt',\n",
       " 'Cotton Checked Spread Collar Men Shirt-Multi-Color',\n",
       " 'Mens Slim Fit Chinos Grey',\n",
       " 'Men White Solid Spread Collar Shirt',\n",
       " 'Mens Skinny Fit Solid Jeans',\n",
       " 'Men Blue Striped Slim Shirt',\n",
       " 'Mens Slim Fit Chinos Blue',\n",
       " 'Men Navy Blue Textured Round Neck Sweater',\n",
       " 'Solid Shorts',\n",
       " 'Men Blue Solid Carrot Fit Jeans',\n",
       " 'Yellow Polo T-Shirt',\n",
       " 'Mens Slim Fit Stripe Shirt Maroon',\n",
       " 'Men Black Solid Slim Fit Shorts',\n",
       " 'Analog White Dial Men Watch-UWUCG0304',\n",
       " 'Men Short Sleeve Tipping T-Shirt',\n",
       " 'Mens White Plain Short Sleeve Tipping T-Shirt',\n",
       " 'Mens Slim Tapered Fit Jeans Black',\n",
       " 'Solid Shirts',\n",
       " 'Men Solid Shirt']"
      ]
     },
     "execution_count": 76,
     "metadata": {},
     "output_type": "execute_result"
    }
   ],
   "source": [
    "# We mentioned the name of an item to obtain the name datasets\n",
    "wanted=[\"Mens Short Sleeve Printed T-Shirt Beige\"]\n",
    "scraper = AutoScraper()\n",
    "name = scraper.build(url,wanted)\n",
    "name"
   ]
  },
  {
   "cell_type": "code",
   "execution_count": 3,
   "id": "8fba9f5f",
   "metadata": {},
   "outputs": [
    {
     "data": {
      "text/plain": [
       "['https://www.nykaafashion.com/united-colors-of-benetton-mens-short-sleeve-printed-t-shirt-grey/p/8127410',\n",
       " 'https://www.nykaafashion.com/united-colors-of-benetton-mens-short-sleeve-solid-polo-t-shirt-maroon/p/8127412',\n",
       " 'https://www.nykaafashion.com/united-colors-of-benetton-blue-colour-blocked-polo-t-shirt/p/7617424',\n",
       " 'https://www.nykaafashion.com/united-colors-of-benetton-mens-slim-fit-check-shirt-multi-color/p/8256754',\n",
       " 'https://www.nykaafashion.com/united-colors-of-benetton-skinny-fit-blue-jeans/p/7617553',\n",
       " 'https://www.nykaafashion.com/united-colors-of-benetton-mens-short-sleeve-printed-t-shirt/p/7617448',\n",
       " 'https://www.nykaafashion.com/united-colors-of-benetton-mens-short-sleeve-tipping-t-shirt/p/7617463',\n",
       " 'https://www.nykaafashion.com/united-colors-of-benetton-cream-linen-shirt/p/7617476',\n",
       " 'https://www.nykaafashion.com/united-colors-of-benetton-men-solid-slim-fit-jeans-grey/p/8256783',\n",
       " 'https://www.nykaafashion.com/united-colors-of-benetton-men-black-solid-skinny-fit-jeans/p/7312993',\n",
       " 'https://www.nykaafashion.com/united-colors-of-benetton-mens-short-sleeve-tipping-t-shirt/p/7617462',\n",
       " 'https://www.nykaafashion.com/united-colors-of-benetton-mens-short-sleeve-solid-polo-t-shirt/p/7617445',\n",
       " 'https://www.nykaafashion.com/united-colors-of-benetton-white-linen-shirt/p/7617480',\n",
       " 'https://www.nykaafashion.com/united-colors-of-benetton-mens-short-sleeve-printed-t-shirt/p/7617459',\n",
       " 'https://www.nykaafashion.com/united-colors-of-benetton-black-v-neck-t-shirt/p/7617460',\n",
       " 'https://www.nykaafashion.com/united-colors-of-benetton-white-v-neck-t-shirt/p/7617461',\n",
       " 'https://www.nykaafashion.com/united-colors-of-benetton-mens-short-sleeve-printed-t-shirt-beige/p/8256738',\n",
       " 'https://www.nykaafashion.com/united-colors-of-benetton-mens-low-crotch-jeans-grey/p/8256794',\n",
       " 'https://www.nykaafashion.com/united-colors-of-benetton-mens-short-sleeve-solid-t-shirt/p/7617473',\n",
       " 'https://www.nykaafashion.com/united-colors-of-benetton-mens-short-sleeve-solid-polo-purple/p/8256745',\n",
       " 'https://www.nykaafashion.com/united-colors-of-benetton-mens-slim-fit-solid-shirt/p/7617495',\n",
       " 'https://www.nykaafashion.com/united-colors-of-benetton-analog-grey-dial-men-watch-uwucg0000/p/7932591',\n",
       " 'https://www.nykaafashion.com/united-colors-of-benetton-mens-slim-fit-solid-shorts/p/7617535',\n",
       " 'https://www.nykaafashion.com/united-colors-of-benetton-men-slim-fit-solid-shirt/p/8779103',\n",
       " 'https://www.nykaafashion.com/united-colors-of-benetton-men-blue-solid-collar-neck-shirt/p/10590701',\n",
       " 'https://www.nykaafashion.com/united-colors-of-benetton-mens-slim-fit-chinos-black/p/8256791',\n",
       " 'https://www.nykaafashion.com/united-colors-of-benetton-men-white-solid-spread-collar-shirt/p/8779107',\n",
       " 'https://www.nykaafashion.com/united-colors-of-benetton-mens-slim-fit-chinos-grey/p/8256790',\n",
       " 'https://www.nykaafashion.com/united-colors-of-benetton-cotton-checked-spread-collar-men-shirt-multi-color/p/10061867',\n",
       " 'https://www.nykaafashion.com/united-colors-of-benetton-men-slim-fit-solid-shirt/p/8779105',\n",
       " 'https://www.nykaafashion.com/united-colors-of-benetton-men-navy-blue-textured-round-neck-sweater/p/10590605',\n",
       " 'https://www.nykaafashion.com/united-colors-of-benetton-cotton-checked-spread-collar-men-shirt-multi-color/p/10061866',\n",
       " 'https://www.nykaafashion.com/united-colors-of-benetton-mens-slim-fit-solid-shorts/p/7617541',\n",
       " 'https://www.nykaafashion.com/united-colors-of-benetton-men-blue-striped-slim-shirt/p/7312941',\n",
       " 'https://www.nykaafashion.com/united-colors-of-benetton-men-short-sleeve-tipping-t-shirt/p/8779098',\n",
       " 'https://www.nykaafashion.com/united-colors-of-benetton-solid-shorts/p/5776961',\n",
       " 'https://www.nykaafashion.com/united-colors-of-benetton-men-blue-solid-carrot-fit-jeans/p/10674128',\n",
       " 'https://www.nykaafashion.com/united-colors-of-benetton-men-stripe-slim-fit-trouser/p/8780587',\n",
       " 'https://www.nykaafashion.com/united-colors-of-benetton-mens-skinny-fit-solid-jeans/p/7617549',\n",
       " 'https://www.nykaafashion.com/united-colors-of-benetton-men-short-sleeve-tipping-t-shirt/p/8779097',\n",
       " 'https://www.nykaafashion.com/united-colors-of-benetton-men-black-solid-slim-fit-shorts/p/10674051',\n",
       " 'https://www.nykaafashion.com/united-colors-of-benetton-analog-white-dial-men-watch-uwucg0304/p/7932611',\n",
       " 'https://www.nykaafashion.com/united-colors-of-benetton-mens-slim-fit-chinos-blue/p/8256792',\n",
       " 'https://www.nykaafashion.com/united-colors-of-benetton-men-navy-blue-striped-round-neck-t-shirt/p/10590625',\n",
       " 'https://www.nykaafashion.com/united-colors-of-benetton-mens-slim-fit-stripe-shirt-maroon/p/8256756',\n",
       " 'https://www.nykaafashion.com/united-colors-of-benetton-mens-slim-tapered-fit-jeans-grey/p/8256793',\n",
       " 'https://www.nykaafashion.com/united-colors-of-benetton-men-black-solid-mandarin-neck-shirt/p/10590734',\n",
       " 'https://www.nykaafashion.com/united-colors-of-benetton-cream-linen-shirt/p/7617482']"
      ]
     },
     "execution_count": 3,
     "metadata": {},
     "output_type": "execute_result"
    }
   ],
   "source": [
    "# We mentioned the URL of an item to obtain the URL datasets\n",
    "\n",
    "wanted_list = [\"https://www.nykaafashion.com/united-colors-of-benetton-mens-short-sleeve-printed-t-shirt-beige/p/8256738\"]\n",
    "\n",
    "scraper = AutoScraper()\n",
    "\n",
    "urls= scraper.build(url, wanted_list)\n",
    "\n",
    "urls"
   ]
  },
  {
   "cell_type": "code",
   "execution_count": 86,
   "id": "f2b290f0",
   "metadata": {},
   "outputs": [
    {
     "data": {
      "text/plain": [
       "(48, 41, 21)"
      ]
     },
     "execution_count": 86,
     "metadata": {},
     "output_type": "execute_result"
    }
   ],
   "source": [
    "len(urls), len(name), len(price)"
   ]
  },
  {
   "cell_type": "code",
   "execution_count": 87,
   "id": "0096b39d",
   "metadata": {},
   "outputs": [
    {
     "name": "stdout",
     "output_type": "stream",
     "text": [
      "Data saved in clothing_item_descriptions.csv\n"
     ]
    }
   ],
   "source": [
    "#After collecting datasets we merge all these data into columns then into csv file\n",
    "data = {\n",
    "    'Name':name[:21],\n",
    "    'Price(₹)':price[:21],\n",
    "    'Urls':urls[:21]\n",
    "}\n",
    "\n",
    "df = pd.DataFrame(data)\n",
    "\n",
    "csv_file = 'clothing_item_descriptions.csv'\n",
    "df.to_csv(csv_file, index=False)\n",
    "\n",
    "print(f\"Data saved in {csv_file}\")"
   ]
  },
  {
   "cell_type": "code",
   "execution_count": 4,
   "id": "e03704b7",
   "metadata": {},
   "outputs": [
    {
     "data": {
      "text/html": [
       "<div>\n",
       "<style scoped>\n",
       "    .dataframe tbody tr th:only-of-type {\n",
       "        vertical-align: middle;\n",
       "    }\n",
       "\n",
       "    .dataframe tbody tr th {\n",
       "        vertical-align: top;\n",
       "    }\n",
       "\n",
       "    .dataframe thead th {\n",
       "        text-align: right;\n",
       "    }\n",
       "</style>\n",
       "<table border=\"1\" class=\"dataframe\">\n",
       "  <thead>\n",
       "    <tr style=\"text-align: right;\">\n",
       "      <th></th>\n",
       "      <th>Name</th>\n",
       "      <th>Price(₹)</th>\n",
       "      <th>Urls</th>\n",
       "    </tr>\n",
       "  </thead>\n",
       "  <tbody>\n",
       "    <tr>\n",
       "      <th>0</th>\n",
       "      <td>Mens Short Sleeve Printed T-Shirt-Grey</td>\n",
       "      <td>₹750</td>\n",
       "      <td>https://www.nykaafashion.com/united-colors-of-...</td>\n",
       "    </tr>\n",
       "    <tr>\n",
       "      <th>1</th>\n",
       "      <td>Mens Short Sleeve Solid Polo T-Shirt-Maroon</td>\n",
       "      <td>₹1,150</td>\n",
       "      <td>https://www.nykaafashion.com/united-colors-of-...</td>\n",
       "    </tr>\n",
       "    <tr>\n",
       "      <th>2</th>\n",
       "      <td>Blue Colour-Blocked Polo T-Shirt</td>\n",
       "      <td>₹1,500</td>\n",
       "      <td>https://www.nykaafashion.com/united-colors-of-...</td>\n",
       "    </tr>\n",
       "    <tr>\n",
       "      <th>3</th>\n",
       "      <td>Mens Slim Fit Check Shirt Multi-Color</td>\n",
       "      <td>₹1,750</td>\n",
       "      <td>https://www.nykaafashion.com/united-colors-of-...</td>\n",
       "    </tr>\n",
       "    <tr>\n",
       "      <th>4</th>\n",
       "      <td>Skinny Fit Blue Jeans</td>\n",
       "      <td>₹2,000</td>\n",
       "      <td>https://www.nykaafashion.com/united-colors-of-...</td>\n",
       "    </tr>\n",
       "    <tr>\n",
       "      <th>5</th>\n",
       "      <td>Mens Short Sleeve Printed T-Shirt</td>\n",
       "      <td>₹900</td>\n",
       "      <td>https://www.nykaafashion.com/united-colors-of-...</td>\n",
       "    </tr>\n",
       "    <tr>\n",
       "      <th>6</th>\n",
       "      <td>Mens Short Sleeve Tipping T-Shirt</td>\n",
       "      <td>₹1,000</td>\n",
       "      <td>https://www.nykaafashion.com/united-colors-of-...</td>\n",
       "    </tr>\n",
       "    <tr>\n",
       "      <th>7</th>\n",
       "      <td>Cream Linen Shirt</td>\n",
       "      <td>₹650</td>\n",
       "      <td>https://www.nykaafashion.com/united-colors-of-...</td>\n",
       "    </tr>\n",
       "    <tr>\n",
       "      <th>8</th>\n",
       "      <td>Men Solid Slim Fit Jeans Grey</td>\n",
       "      <td>₹500</td>\n",
       "      <td>https://www.nykaafashion.com/united-colors-of-...</td>\n",
       "    </tr>\n",
       "    <tr>\n",
       "      <th>9</th>\n",
       "      <td>Mens Short Sleeve Solid Polo T-Shirt</td>\n",
       "      <td>₹1,400</td>\n",
       "      <td>https://www.nykaafashion.com/united-colors-of-...</td>\n",
       "    </tr>\n",
       "    <tr>\n",
       "      <th>10</th>\n",
       "      <td>Men Black Solid Skinny Fit Jeans</td>\n",
       "      <td>₹2,250</td>\n",
       "      <td>https://www.nykaafashion.com/united-colors-of-...</td>\n",
       "    </tr>\n",
       "    <tr>\n",
       "      <th>11</th>\n",
       "      <td>Mens Short Sleeve Printed T-Shirt Beige</td>\n",
       "      <td>₹1,250</td>\n",
       "      <td>https://www.nykaafashion.com/united-colors-of-...</td>\n",
       "    </tr>\n",
       "    <tr>\n",
       "      <th>12</th>\n",
       "      <td>White Linen Shirt</td>\n",
       "      <td>₹2,998</td>\n",
       "      <td>https://www.nykaafashion.com/united-colors-of-...</td>\n",
       "    </tr>\n",
       "    <tr>\n",
       "      <th>13</th>\n",
       "      <td>Black V-Neck T-Shirt</td>\n",
       "      <td>₹2,310</td>\n",
       "      <td>https://www.nykaafashion.com/united-colors-of-...</td>\n",
       "    </tr>\n",
       "    <tr>\n",
       "      <th>14</th>\n",
       "      <td>Mens Short Sleeve Solid Polo Purple</td>\n",
       "      <td>₹1,650</td>\n",
       "      <td>https://www.nykaafashion.com/united-colors-of-...</td>\n",
       "    </tr>\n",
       "    <tr>\n",
       "      <th>15</th>\n",
       "      <td>Mens Low Crotch Jeans Black</td>\n",
       "      <td>₹2,475</td>\n",
       "      <td>https://www.nykaafashion.com/united-colors-of-...</td>\n",
       "    </tr>\n",
       "    <tr>\n",
       "      <th>16</th>\n",
       "      <td>Mens Short Sleeve Solid T-Shirt</td>\n",
       "      <td>₹1,625</td>\n",
       "      <td>https://www.nykaafashion.com/united-colors-of-...</td>\n",
       "    </tr>\n",
       "    <tr>\n",
       "      <th>17</th>\n",
       "      <td>Mens Slim Fit Solid Shorts</td>\n",
       "      <td>₹2,625</td>\n",
       "      <td>https://www.nykaafashion.com/united-colors-of-...</td>\n",
       "    </tr>\n",
       "    <tr>\n",
       "      <th>18</th>\n",
       "      <td>White V-Neck T-Shirt</td>\n",
       "      <td>₹1,875</td>\n",
       "      <td>https://www.nykaafashion.com/united-colors-of-...</td>\n",
       "    </tr>\n",
       "    <tr>\n",
       "      <th>19</th>\n",
       "      <td>Mens Slim Fit Solid Shirt</td>\n",
       "      <td>₹1,498</td>\n",
       "      <td>https://www.nykaafashion.com/united-colors-of-...</td>\n",
       "    </tr>\n",
       "    <tr>\n",
       "      <th>20</th>\n",
       "      <td>Analog Grey Dial Men Watch-UWUCG0000</td>\n",
       "      <td>₹2,275</td>\n",
       "      <td>https://www.nykaafashion.com/united-colors-of-...</td>\n",
       "    </tr>\n",
       "  </tbody>\n",
       "</table>\n",
       "</div>"
      ],
      "text/plain": [
       "                                           Name Price(₹)  \\\n",
       "0        Mens Short Sleeve Printed T-Shirt-Grey     ₹750   \n",
       "1   Mens Short Sleeve Solid Polo T-Shirt-Maroon   ₹1,150   \n",
       "2              Blue Colour-Blocked Polo T-Shirt   ₹1,500   \n",
       "3         Mens Slim Fit Check Shirt Multi-Color   ₹1,750   \n",
       "4                         Skinny Fit Blue Jeans   ₹2,000   \n",
       "5             Mens Short Sleeve Printed T-Shirt     ₹900   \n",
       "6             Mens Short Sleeve Tipping T-Shirt   ₹1,000   \n",
       "7                             Cream Linen Shirt     ₹650   \n",
       "8                 Men Solid Slim Fit Jeans Grey     ₹500   \n",
       "9          Mens Short Sleeve Solid Polo T-Shirt   ₹1,400   \n",
       "10             Men Black Solid Skinny Fit Jeans   ₹2,250   \n",
       "11      Mens Short Sleeve Printed T-Shirt Beige   ₹1,250   \n",
       "12                            White Linen Shirt   ₹2,998   \n",
       "13                         Black V-Neck T-Shirt   ₹2,310   \n",
       "14          Mens Short Sleeve Solid Polo Purple   ₹1,650   \n",
       "15                  Mens Low Crotch Jeans Black   ₹2,475   \n",
       "16              Mens Short Sleeve Solid T-Shirt   ₹1,625   \n",
       "17                   Mens Slim Fit Solid Shorts   ₹2,625   \n",
       "18                         White V-Neck T-Shirt   ₹1,875   \n",
       "19                    Mens Slim Fit Solid Shirt   ₹1,498   \n",
       "20         Analog Grey Dial Men Watch-UWUCG0000   ₹2,275   \n",
       "\n",
       "                                                 Urls  \n",
       "0   https://www.nykaafashion.com/united-colors-of-...  \n",
       "1   https://www.nykaafashion.com/united-colors-of-...  \n",
       "2   https://www.nykaafashion.com/united-colors-of-...  \n",
       "3   https://www.nykaafashion.com/united-colors-of-...  \n",
       "4   https://www.nykaafashion.com/united-colors-of-...  \n",
       "5   https://www.nykaafashion.com/united-colors-of-...  \n",
       "6   https://www.nykaafashion.com/united-colors-of-...  \n",
       "7   https://www.nykaafashion.com/united-colors-of-...  \n",
       "8   https://www.nykaafashion.com/united-colors-of-...  \n",
       "9   https://www.nykaafashion.com/united-colors-of-...  \n",
       "10  https://www.nykaafashion.com/united-colors-of-...  \n",
       "11  https://www.nykaafashion.com/united-colors-of-...  \n",
       "12  https://www.nykaafashion.com/united-colors-of-...  \n",
       "13  https://www.nykaafashion.com/united-colors-of-...  \n",
       "14  https://www.nykaafashion.com/united-colors-of-...  \n",
       "15  https://www.nykaafashion.com/united-colors-of-...  \n",
       "16  https://www.nykaafashion.com/united-colors-of-...  \n",
       "17  https://www.nykaafashion.com/united-colors-of-...  \n",
       "18  https://www.nykaafashion.com/united-colors-of-...  \n",
       "19  https://www.nykaafashion.com/united-colors-of-...  \n",
       "20  https://www.nykaafashion.com/united-colors-of-...  "
      ]
     },
     "execution_count": 4,
     "metadata": {},
     "output_type": "execute_result"
    }
   ],
   "source": [
    "file = pd.read_csv(\"clothing_item_descriptions.csv\")\n",
    "file"
   ]
  },
  {
   "cell_type": "code",
   "execution_count": 89,
   "id": "a5b661ee",
   "metadata": {},
   "outputs": [
    {
     "data": {
      "text/plain": [
       "'Mens Short Sleeve Printed T-Shirt-Grey'"
      ]
     },
     "execution_count": 89,
     "metadata": {},
     "output_type": "execute_result"
    }
   ],
   "source": [
    "col1 = file['Name']\n",
    "col1[0]"
   ]
  },
  {
   "cell_type": "code",
   "execution_count": 7,
   "id": "044435d5",
   "metadata": {},
   "outputs": [],
   "source": [
    "def compute_similarities(text,data,url,top_n):\n",
    "    #Using TfidVectorizer() to obain the text features\n",
    "    vectorizer = TfidfVectorizer()\n",
    "    textFeature = vectorizer.fit_transform([text])\n",
    "    # This creates a vocabulary of words and their associated weights.\n",
    "\n",
    "    data_features= vectorizer.transform(data)\n",
    "    # This creates a vocabulary of words and their associated weights for the data.\n",
    "    \n",
    "    similarities = cosine_similarity(textFeature, data_features).flatten()\n",
    "    # This line calculates the cosine similarity between the text feature and the data feature.\n",
    "    \n",
    "    # This line creates a list of the URLs for the top `top_n` most similar texts.\n",
    "    sorted_indices = np.argsort(similarities)[::-1]  \n",
    "\n",
    "    top_n_indices = sorted_indices[:top_n]  \n",
    "\n",
    "    top_urls = []  \n",
    "    for index in top_n_indices:\n",
    "        top_urls.append(urls[index])\n",
    "    return top_urls"
   ]
  },
  {
   "cell_type": "code",
   "execution_count": 14,
   "id": "560332cb",
   "metadata": {},
   "outputs": [
    {
     "name": "stdout",
     "output_type": "stream",
     "text": [
      "Enter the items which you want to get similar results Mens Short Sleeve Printed T-Shirt-Grey\n",
      "Enter your top n results 2\n"
     ]
    },
    {
     "data": {
      "text/plain": [
       "['https://www.nykaafashion.com/united-colors-of-benetton-mens-short-sleeve-printed-t-shirt-grey/p/8127410',\n",
       " 'https://www.nykaafashion.com/united-colors-of-benetton-mens-short-sleeve-printed-t-shirt/p/7617448']"
      ]
     },
     "execution_count": 14,
     "metadata": {},
     "output_type": "execute_result"
    }
   ],
   "source": [
    "text = input(\"Enter the items which you want to get similar results \")\n",
    "\n",
    "top = int(input(\"Enter your top n results \"))\n",
    "similar_items = compute_similarities(text, file['Name'], file['Urls'], top)\n",
    "similar_items"
   ]
  },
  {
   "cell_type": "code",
   "execution_count": null,
   "id": "b32a96cd",
   "metadata": {},
   "outputs": [],
   "source": []
  }
 ],
 "metadata": {
  "kernelspec": {
   "display_name": "Python 3 (ipykernel)",
   "language": "python",
   "name": "python3"
  },
  "language_info": {
   "codemirror_mode": {
    "name": "ipython",
    "version": 3
   },
   "file_extension": ".py",
   "mimetype": "text/x-python",
   "name": "python",
   "nbconvert_exporter": "python",
   "pygments_lexer": "ipython3",
   "version": "3.9.13"
  }
 },
 "nbformat": 4,
 "nbformat_minor": 5
}
